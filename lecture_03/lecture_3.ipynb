{
 "cells": [
  {
   "attachments": {},
   "cell_type": "markdown",
   "metadata": {},
   "source": [
    "# <span style=\"color:darkblue\"> Lecture 3: Mathematical Operations and Random Numbers </span>"
   ]
  },
  {
   "attachments": {},
   "cell_type": "markdown",
   "metadata": {},
   "source": [
    "<font size=\"5\"> \n",
    "\n",
    "In the previous class we:\n",
    "- Introduced lists and variable types\n",
    "- Talked about how to extract elements from a list"
   ]
  },
  {
   "attachments": {},
   "cell_type": "markdown",
   "metadata": {},
   "source": [
    "<font size=\"5\"> \n",
    "\n",
    "In this class we will:\n",
    "\n",
    "- Introduce a library for general mathematical operations\n",
    "- Generate random numbers\n",
    "- (Optional) Matrix operations"
   ]
  },
  {
   "attachments": {},
   "cell_type": "markdown",
   "metadata": {},
   "source": [
    "## <span style=\"color:darkblue\"> I. Import Libraries </span>"
   ]
  },
  {
   "cell_type": "code",
   "execution_count": 1,
   "metadata": {},
   "outputs": [],
   "source": [
    "# the \"numPy\" library is used for mathematical operations\n",
    "# the \"matplotlib\" library is for generating graphs\n",
    "\n",
    "import numpy as np\n",
    "import matplotlib.pyplot as plt\n"
   ]
  },
  {
   "attachments": {},
   "cell_type": "markdown",
   "metadata": {},
   "source": [
    "##  <span style=\"color:darkblue\"> II. Numbers and Functions </span>"
   ]
  },
  {
   "attachments": {},
   "cell_type": "markdown",
   "metadata": {},
   "source": [
    "<font size = \"5\" >\n",
    "Examples of numPy numbers"
   ]
  },
  {
   "cell_type": "code",
   "execution_count": 2,
   "metadata": {},
   "outputs": [
    {
     "data": {
      "text/plain": [
       "3.141592653589793"
      ]
     },
     "execution_count": 2,
     "metadata": {},
     "output_type": "execute_result"
    }
   ],
   "source": [
    "# Computes \"pi\" (3.14...)\n",
    "\n",
    "np.pi"
   ]
  },
  {
   "attachments": {},
   "cell_type": "markdown",
   "metadata": {},
   "source": [
    "<font size = \"5\" >\n",
    "\n",
    "Examples of numPy functions\n",
    "\n",
    "$ ln(x), e^x, sin(x), cos(x), \\sqrt{x}$"
   ]
  },
  {
   "cell_type": "code",
<<<<<<< HEAD
   "execution_count": 13,
   "metadata": {},
   "outputs": [
    {
     "ename": "TypeError",
     "evalue": "can only concatenate str (not \"numpy.float64\") to str",
     "output_type": "error",
     "traceback": [
      "\u001b[1;31m---------------------------------------------------------------------------\u001b[0m",
      "\u001b[1;31mTypeError\u001b[0m                                 Traceback (most recent call last)",
      "Cell \u001b[1;32mIn[13], line 7\u001b[0m\n\u001b[0;32m      1\u001b[0m \u001b[38;5;66;03m# log(x) computes the logarithm with base \"e\" (Euler constant)\u001b[39;00m\n\u001b[0;32m      2\u001b[0m \u001b[38;5;66;03m# exp(x) compute the Euler constant raised to the power of \"x\"\u001b[39;00m\n\u001b[0;32m      3\u001b[0m \u001b[38;5;66;03m# sing(x) computes the sine of x\u001b[39;00m\n\u001b[0;32m      4\u001b[0m \u001b[38;5;66;03m# cos(x) computes the cosine of x\u001b[39;00m\n\u001b[0;32m      5\u001b[0m \u001b[38;5;66;03m# In this example, we're substituting x = 1\u001b[39;00m\n\u001b[1;32m----> 7\u001b[0m \u001b[38;5;28mprint\u001b[39m(\u001b[38;5;28mstr\u001b[39m(\u001b[38;5;124m\"\u001b[39m\u001b[38;5;124mlog(1)\u001b[39m\u001b[38;5;124m\"\u001b[39m) \u001b[38;5;241m+\u001b[39m np\u001b[38;5;241m.\u001b[39mlog(\u001b[38;5;241m1\u001b[39m))\n\u001b[0;32m      8\u001b[0m \u001b[38;5;28mprint\u001b[39m(np\u001b[38;5;241m.\u001b[39mexp(\u001b[38;5;241m1\u001b[39m))\n\u001b[0;32m      9\u001b[0m \u001b[38;5;28mprint\u001b[39m(np\u001b[38;5;241m.\u001b[39msin(\u001b[38;5;241m1\u001b[39m))\n",
      "\u001b[1;31mTypeError\u001b[0m: can only concatenate str (not \"numpy.float64\") to str"
=======
   "execution_count": 3,
   "metadata": {},
   "outputs": [
    {
     "name": "stdout",
     "output_type": "stream",
     "text": [
      "0.0\n",
      "2.718281828459045\n",
      "0.8414709848078965\n",
      "0.5403023058681398\n",
      "1.0\n"
>>>>>>> upstream/main
     ]
    }
   ],
   "source": [
    "# log(x) computes the logarithm with base \"e\" (Euler constant)\n",
    "# exp(x) compute the Euler constant raised to the power of \"x\"\n",
    "# sing(x) computes the sine of x\n",
    "# cos(x) computes the cosine of x\n",
    "# In this example, we're substituting x = 1\n",
    "\n",
    "print(np.log(1))\n",
    "print(np.exp(1))\n",
    "print(np.sin(1))\n",
    "print(np.cos(1))\n",
    "print(np.sqrt(1))"
   ]
  },
  {
   "cell_type": "markdown",
   "metadata": {},
   "source": [
    "<font size = \"5\">\n",
    "\n",
    "Raising to the power of a number\n",
    "\n",
    "$ x^5 $"
   ]
  },
  {
   "cell_type": "code",
   "execution_count": 6,
   "metadata": {},
   "outputs": [
    {
     "data": {
      "text/plain": [
       "100000"
      ]
     },
     "execution_count": 6,
     "metadata": {},
     "output_type": "execute_result"
    }
   ],
   "source": [
    "x = 10\n",
    "x ** 5\n",
    "\n",
    "# Not x^5"
   ]
  },
  {
   "attachments": {},
   "cell_type": "markdown",
   "metadata": {},
   "source": [
    "<font size = \"5\">\n",
    "\n",
    "Try it yourself!\n",
    "\n",
    "- Create a new variable, $x = 5$\n",
    "- Compute $\\pi x^2$\n",
    "- Compute $ \\frac{1}{\\sqrt{2\\pi}}e^{-x^2} $"
   ]
  },
  {
   "cell_type": "code",
<<<<<<< HEAD
   "execution_count": 7,
=======
   "execution_count": 9,
>>>>>>> upstream/main
   "metadata": {},
   "outputs": [
    {
     "name": "stdout",
     "output_type": "stream",
     "text": [
      "78.53981633974483\n",
<<<<<<< HEAD
      "0.15291438851158204\n"
=======
      "5.540487995575833e-12\n"
>>>>>>> upstream/main
     ]
    }
   ],
   "source": [
    "# Write your own code\n",
    "x = 5\n",
    "print(np.pi * x**2)\n",
    "print( (1/(2* np.pi))*np.exp(-x**-2))\n",
    "\n",
    "x = 5\n",
    "print( np.pi * (x**2))\n",
    "\n",
    "print( (1/np.sqrt(2*np.pi))* np.exp(-x**2) )\n",
    "\n"
   ]
  },
  {
   "attachments": {},
   "cell_type": "markdown",
   "metadata": {},
   "source": [
    "##  <span style=\"color:darkblue\"> III. Vector Arrays </span>"
   ]
  },
  {
   "attachments": {},
   "cell_type": "markdown",
   "metadata": {},
   "source": [
    "<font size = \"5\">\n",
    "Create an array from a list\n",
    "\n",
    "$ \\text{ }$\n",
    "$ a = \\begin{pmatrix} 1 \\\\ 2 \\\\ 3 \\end{pmatrix}\n",
    "\\qquad b = \\begin{pmatrix} 0 \\\\ 1 \\\\ 0\\end{pmatrix}\n",
    "\\qquad c = \\begin{pmatrix} 10 \\\\ 100 \\\\ 1000 \\\\ 2000 \\\\ 5000 \\end{pmatrix} \n",
    "\\qquad d = \\begin{pmatrix} 4 \\\\ 2 \\end{pmatrix} $"
   ]
  },
  {
   "cell_type": "code",
<<<<<<< HEAD
   "execution_count": 14,
=======
   "execution_count": 11,
>>>>>>> upstream/main
   "metadata": {},
   "outputs": [],
   "source": [
    "# You create an array by converting a list [1,2,3] to a numeric object\n",
    "# \"array\" is a subfunction of the library numPy.\n",
    "\n",
    "vec_a  = np.array([1,2,3])\n",
    "vec_b  = np.array([0,1,0])\n",
    "vec_c  = np.array([10,100,1000,2000,5000 ])\n"
   ]
  },
  {
   "attachments": {},
   "cell_type": "markdown",
   "metadata": {},
   "source": [
    "<font size = \"5\">\n",
    "\n",
    "Accessing an element of an array"
   ]
  },
  {
   "cell_type": "code",
<<<<<<< HEAD
   "execution_count": 16,
=======
   "execution_count": 13,
>>>>>>> upstream/main
   "metadata": {},
   "outputs": [
    {
     "name": "stdout",
     "output_type": "stream",
     "text": [
      "1\n",
      "3\n"
     ]
    }
   ],
   "source": [
    "# Arrays, like lists, start their numbering at zero.\n",
    "# You also access them with square brackets\n",
    "\n",
    "print(vec_a[0])\n",
    "print(vec_a[2])\n"
   ]
  },
  {
   "attachments": {},
   "cell_type": "markdown",
   "metadata": {},
   "source": [
    "<font size = \"5\">\n",
    "Operations with a single array and a scalar"
   ]
  },
  {
   "attachments": {},
   "cell_type": "markdown",
   "metadata": {},
   "source": [
    "<font size = \"5\">\n",
    "\n",
    "$ a + 2 = \\begin{pmatrix} a_1 + 2 \\\\ a_2 + 2 \\\\ a_3 + 2 \\end{pmatrix}$"
   ]
  },
  {
   "cell_type": "code",
<<<<<<< HEAD
   "execution_count": 17,
=======
   "execution_count": 14,
>>>>>>> upstream/main
   "metadata": {},
   "outputs": [
    {
     "name": "stdout",
     "output_type": "stream",
     "text": [
      "[2 4 6]\n",
      "[0.5 1.  1.5]\n",
      "[3 4 5]\n",
      "[1 4 9]\n"
     ]
    }
   ],
   "source": [
    "# A scalar refers to either an int or float\n",
    "# We can do many common operations with \n",
    "\n",
    "print(vec_a * 2)\n",
    "print(vec_a / 2)\n",
    "print(vec_a + 2)\n",
    "print(vec_a ** 2)"
   ]
  },
  {
   "attachments": {},
   "cell_type": "markdown",
   "metadata": {},
   "source": [
    "<font size = \"5\">\n",
    "Element-by-element addition between two arrays of the same size\n",
    "\n",
    "$\\text{ }$\n",
    "\n",
    "$ a + b = \\begin{pmatrix} a_1 \\\\ a_2 \\\\ a_3 \\end{pmatrix} +\n",
    "          \\begin{pmatrix} b_1 \\\\ b_2 \\\\ b_3 \\end{pmatrix} =\n",
    "          \\begin{pmatrix} a_1 + b_1 \\\\ a_2 + b_2 \\\\ a_3 + b_3 \\end{pmatrix}$"
   ]
  },
  {
   "cell_type": "code",
<<<<<<< HEAD
   "execution_count": 18,
=======
   "execution_count": 15,
>>>>>>> upstream/main
   "metadata": {},
   "outputs": [
    {
     "name": "stdout",
     "output_type": "stream",
     "text": [
      "[1 2 3]\n",
      "[0 1 0]\n"
     ]
    }
   ],
   "source": [
    "print(vec_a)\n",
    "print(vec_b)"
   ]
  },
  {
   "cell_type": "code",
<<<<<<< HEAD
   "execution_count": 19,
=======
   "execution_count": 16,
>>>>>>> upstream/main
   "metadata": {},
   "outputs": [
    {
     "name": "stdout",
     "output_type": "stream",
     "text": [
      "[1 3 3]\n"
     ]
    }
   ],
   "source": [
    "# When you add two arrays of the same size,\n",
    "# Python adds the individual elements in each position\n",
    "\n",
    "print(vec_a + vec_b)\n"
   ]
  },
  {
   "attachments": {},
   "cell_type": "markdown",
   "metadata": {},
   "source": [
    "<font size =\"5\">\n",
    "\n",
    "The default multiplication option is element-by element:\n",
    "\n",
    "$ a * b = \\begin{pmatrix} a_1 * b_1 \\\\ a_2 * b_2 \\\\ a_3 * b_3 \\end{pmatrix}$"
   ]
  },
  {
   "cell_type": "code",
<<<<<<< HEAD
   "execution_count": 20,
=======
   "execution_count": 17,
>>>>>>> upstream/main
   "metadata": {},
   "outputs": [
    {
     "name": "stdout",
     "output_type": "stream",
     "text": [
      "[0 2 0]\n",
      "[1 1 3]\n",
      "[inf  2. inf]\n"
     ]
    },
    {
     "name": "stderr",
     "output_type": "stream",
     "text": [
<<<<<<< HEAD
      "C:\\Users\\Jeremy\\AppData\\Local\\Temp\\ipykernel_20684\\3839639845.py:6: RuntimeWarning: divide by zero encountered in divide\n",
=======
      "/var/folders/1b/jzb9ndz97b5260fzr9d8kzyh5f7xd6/T/ipykernel_29828/3839639845.py:6: RuntimeWarning: divide by zero encountered in true_divide\n",
>>>>>>> upstream/main
      "  print(vec_a / vec_b)\n"
     ]
    }
   ],
   "source": [
    "# We can do other similar element-by-element operations\n",
    "# such as multiplication, subtraction, and division.\n",
    "\n",
    "print(vec_a * vec_b)\n",
    "print(vec_a - vec_b)\n",
    "print(vec_a / vec_b)\n"
   ]
  },
  {
   "attachments": {},
   "cell_type": "markdown",
   "metadata": {},
   "source": [
    "<font size = \"5\">\n",
    "Summary statistics of an array"
   ]
  },
  {
   "cell_type": "code",
   "execution_count": 18,
   "metadata": {},
   "outputs": [
    {
     "name": "stdout",
     "output_type": "stream",
     "text": [
      "2.0\n",
      "0.816496580927726\n",
      "1\n",
      "2.0\n",
      "3\n"
     ]
    }
   ],
   "source": [
    "# The function np.mean() computes the mean of an array\n",
    "# We can do similar operations for the standard deviation (std),\n",
    "# the minimum (min), the median (median), and the maximum (max).\n",
    "\n",
    "print(np.mean(vec_a))\n",
    "print(np.std(vec_a))\n",
    "print(np.min(vec_a))\n",
    "print(np.median(vec_a))\n",
    "print(np.max(vec_a))"
   ]
  },
  {
   "attachments": {},
   "cell_type": "markdown",
   "metadata": {},
   "source": [
    "<font size = \"5\">\n",
    "\n",
    "Try it yourself! Compute the mean of\n",
    "\n",
    "\n",
    "$ e = \\begin{pmatrix} 10 \\\\ 8 \\\\ 15 \\\\ 0 \\\\ 24 \\end{pmatrix} $"
   ]
  },
  {
   "cell_type": "code",
<<<<<<< HEAD
   "execution_count": 26,
   "metadata": {},
   "outputs": [
    {
     "name": "stdout",
     "output_type": "stream",
     "text": [
      "11.4\n"
     ]
=======
   "execution_count": 19,
   "metadata": {},
   "outputs": [
    {
     "data": {
      "text/plain": [
       "11.4"
      ]
     },
     "execution_count": 19,
     "metadata": {},
     "output_type": "execute_result"
>>>>>>> upstream/main
    }
   ],
   "source": [
    "# Create your own array and compute any of the above summary statistics\n",
<<<<<<< HEAD
    "e = np.array([10,8,15,0,24])\n",
    "print(np.mean(e))\n",
=======
    "\n",
    "e = np.array( [10,8,15,0,24] )\n",
>>>>>>> upstream/main
    "\n",
    "np.mean(e)\n",
    "\n",
    "\n"
   ]
  },
  {
   "attachments": {},
   "cell_type": "markdown",
   "metadata": {},
   "source": [
    "<font size = \"5\">\n",
    "<span style=\"color:red\"> Common Pitfall </span>: Make sure that the arrays have the same size"
   ]
  },
  {
   "cell_type": "code",
<<<<<<< HEAD
   "execution_count": 27,
=======
   "execution_count": 20,
>>>>>>> upstream/main
   "metadata": {},
   "outputs": [
    {
     "name": "stdout",
     "output_type": "stream",
     "text": [
      "[1 2 3]\n",
      "[  10  100 1000 2000 5000]\n"
     ]
    }
   ],
   "source": [
    "print(vec_a)\n",
    "print(vec_c)"
   ]
  },
  {
   "cell_type": "code",
<<<<<<< HEAD
   "execution_count": 28,
=======
   "execution_count": 21,
>>>>>>> upstream/main
   "metadata": {},
   "outputs": [
    {
     "data": {
      "text/plain": [
       "(3,)"
      ]
     },
<<<<<<< HEAD
     "execution_count": 28,
=======
     "execution_count": 21,
>>>>>>> upstream/main
     "metadata": {},
     "output_type": "execute_result"
    }
   ],
   "source": [
    "vec_a.shape"
   ]
  },
  {
   "cell_type": "code",
   "execution_count": 22,
   "metadata": {},
   "outputs": [
    {
     "ename": "ValueError",
     "evalue": "operands could not be broadcast together with shapes (3,) (5,) ",
     "output_type": "error",
     "traceback": [
      "\u001b[0;31m---------------------------------------------------------------------------\u001b[0m",
      "\u001b[0;31mValueError\u001b[0m                                Traceback (most recent call last)",
      "\u001b[0;32m/var/folders/1b/jzb9ndz97b5260fzr9d8kzyh5f7xd6/T/ipykernel_29828/3893591031.py\u001b[0m in \u001b[0;36m<module>\u001b[0;34m\u001b[0m\n\u001b[1;32m      1\u001b[0m \u001b[0;31m# Here I try to combine two arrays of different size.\u001b[0m\u001b[0;34m\u001b[0m\u001b[0;34m\u001b[0m\u001b[0m\n\u001b[1;32m      2\u001b[0m \u001b[0;34m\u001b[0m\u001b[0m\n\u001b[0;32m----> 3\u001b[0;31m \u001b[0mvec_a\u001b[0m \u001b[0;34m+\u001b[0m \u001b[0mvec_c\u001b[0m\u001b[0;34m\u001b[0m\u001b[0;34m\u001b[0m\u001b[0m\n\u001b[0m",
      "\u001b[0;31mValueError\u001b[0m: operands could not be broadcast together with shapes (3,) (5,) "
     ]
    }
   ],
   "source": [
    "# Here I try to combine two arrays of different size.\n",
    "\n",
    "vec_a + vec_c"
   ]
  },
  {
   "attachments": {},
   "cell_type": "markdown",
   "metadata": {},
   "source": [
    "##  <span style=\"color:darkblue\"> IV. Random Numbers </span>\n",
    "\n",
    "<font size = \"5\">\n",
    "\n",
    "Why randomness?\n",
    "\n",
    "- Simulate different scenarios: high risk or low risk\n",
    "- Study properties of a complex system and/or estimator\n",
    "- In medicine, randomly assign subjects to treatment or control"
   ]
  },
  {
   "attachments": {},
   "cell_type": "markdown",
   "metadata": {},
   "source": [
    "<font size = \"5\">\n",
    "\n",
    "Create a vector of random variables"
   ]
  },
  {
   "cell_type": "code",
   "execution_count": 37,
   "metadata": {},
   "outputs": [
    {
     "name": "stdout",
     "output_type": "stream",
     "text": [
<<<<<<< HEAD
      "[-0.0641707  -1.18165469 -0.62187585  0.44662152 -1.97940327 -0.19634305\n",
      "  0.38705735 -0.23929823  1.60031945 -0.41786986]\n"
=======
      "[ 0.28904557 -0.34259521 -1.53873514  1.95141492 -0.25062358 -0.32367552\n",
      " -0.68196447 -1.70393137 -0.43218152 -1.26016168]\n"
>>>>>>> upstream/main
     ]
    }
   ],
   "source": [
    "# This code creates a vector of random variables \n",
    "# generated from a normal distribution with\n",
    "# mean \"loc\" (location) and standard deviation \"scale\"\n",
    "# the number of distinct variabels is \"size\"\n",
    "\n",
    "randomvar_a = np.random.normal(loc=0, scale=1, size=10)\n",
    "print(randomvar_a)"
   ]
  },
  {
   "attachments": {},
   "cell_type": "markdown",
   "metadata": {},
   "source": [
    "<font size = \"5\">\n",
    "\n",
    "Random numbers differ every time!\n",
    "\n",
    "- Avoid this problem by drawing from a \"pregenerated\" set.\n",
    "- This is called a seed"
   ]
  },
  {
   "cell_type": "code",
<<<<<<< HEAD
   "execution_count": 38,
=======
   "execution_count": 56,
>>>>>>> upstream/main
   "metadata": {},
   "outputs": [
    {
     "name": "stdout",
     "output_type": "stream",
     "text": [
<<<<<<< HEAD
      "[ 1.11417929  1.44487377  0.26473752 -0.41701187 -1.71332341 -0.20751871\n",
      " -0.2088598  -1.03876599 -0.15437717 -0.67879554]\n"
=======
      "[ 1.3315865   0.71527897 -1.54540029 -0.00838385  0.62133597 -0.72008556\n",
      "  0.26551159  0.10854853  0.00429143 -0.17460021]\n"
>>>>>>> upstream/main
     ]
    }
   ],
   "source": [
    "# Your computer will typically generate different numbers every time you run a command\n",
    "# However, sometimes you want to be able to replicate the results\n",
    "# You can choose any other number instead of \"12345\". This will produce another set\n",
    "# of random numbers, but they will give the same answers\n",
    "\n",
    "np.random.seed(103931)\n",
    "\n",
    "random_var_b = np.random.normal(loc=0, scale=1, size=10)\n",
    "print(random_var_b)"
   ]
  },
  {
   "attachments": {},
   "cell_type": "markdown",
   "metadata": {},
   "source": [
    "<font size = \"5\">\n",
    "\n",
    "Compute a histogram with the results"
   ]
  },
  {
   "cell_type": "code",
<<<<<<< HEAD
   "execution_count": 51,
=======
   "execution_count": 58,
>>>>>>> upstream/main
   "metadata": {},
   "outputs": [
    {
     "data": {
      "text/plain": [
       "Text(0, 0.5, 'Frequency')"
      ]
     },
<<<<<<< HEAD
     "execution_count": 51,
=======
     "execution_count": 58,
>>>>>>> upstream/main
     "metadata": {},
     "output_type": "execute_result"
    },
    {
     "data": {
<<<<<<< HEAD
      "image/png": "iVBORw0KGgoAAAANSUhEUgAAAjcAAAGwCAYAAABVdURTAAAAOXRFWHRTb2Z0d2FyZQBNYXRwbG90bGliIHZlcnNpb24zLjcuMSwgaHR0cHM6Ly9tYXRwbG90bGliLm9yZy/bCgiHAAAACXBIWXMAAA9hAAAPYQGoP6dpAAAq0klEQVR4nO3de3RV5Z3/8c+R3ABDVCC3EiAUiFxUINEhDFdTgsSyEFktKkLQ6JQKcglZFLCOUtoBBWJkBALTkOgwCkqA0eEyZEq4VEI1EEDkItqYxHAiBWkCcUiA7N8fDOfnMSEkh5Oc5OH9Wmuvrv2c59nnu59u5ePez2HbLMuyBAAAYIg7PF0AAACAOxFuAACAUQg3AADAKIQbAABgFMINAAAwCuEGAAAYhXADAACM4uXpAhpbVVWVTp8+LX9/f9lsNk+XAwAA6sCyLF24cEGhoaG6447a783cduHm9OnTCgsL83QZAADABUVFRerQoUOtfW67cOPv7y/p2uS0adPGw9UAAIC6KCsrU1hYmOPP8drcduHm+qOoNm3aEG4AAGhm6rKkhAXFAADAKIQbAABgFMINAAAwCuEGAAAYhXADAACMQrgBAABGIdwAAACjEG4AAIBRCDcAAMAohBsAAGAUwg0AADCKR8PNypUrdf/99zve8xQdHa1t27bVOmb37t2KjIyUn5+funTpotTU1EaqFgAANAceDTcdOnTQokWLlJubq9zcXD388MMaPXq0Pv/88xr75+fnKy4uToMGDVJeXp7mzZunadOmKTMzs5ErBwAATZXNsizL00X80D333KPFixcrISGh2me/+c1v9OGHH+r48eOOtsmTJ+vw4cPKycmp0/HLysoUEBCg0tJS3goOAEAzUZ8/v5vMmpurV69q3bp1Ki8vV3R0dI19cnJyFBsb69Q2YsQI5ebm6vLlyzWOqaioUFlZmdMGAADM5eXpAj777DNFR0fr0qVLuvPOO7Vp0yb17Nmzxr4lJSUKCgpyagsKCtKVK1d09uxZhYSEVBuzcOFCzZ8/v0Fqr0nnOVsa7bvc5etFj3q6BADADfDnSv15/M5NRESEDh06pP379+vXv/614uPjdezYsRv2t9lsTvvXn6r9uP26uXPnqrS01LEVFRW5r3gAANDkePzOjY+Pj7p27SpJioqK0qeffqo333xTq1atqtY3ODhYJSUlTm1nzpyRl5eX2rZtW+PxfX195evr6/7CAQBAk+TxOzc/ZlmWKioqavwsOjpaWVlZTm07duxQVFSUvL29G6M8AADQxHk03MybN0979+7V119/rc8++0wvvfSSdu3apfHjx0u69khp4sSJjv6TJ09WQUGBEhMTdfz4ca1Zs0ZpaWlKSkry1CkAAIAmxqOPpb799ltNmDBBdrtdAQEBuv/++7V9+3YNHz5ckmS321VYWOjoHx4erq1bt2rmzJlavny5QkNDtWzZMo0dO9ZTpwAAAJoYj4abtLS0Wj/PyMio1jZkyBAdPHiwgSoCAADNXZNbcwMAAHArCDcAAMAohBsAAGAUwg0AADAK4QYAABiFcAMAAIxCuAEAAEYh3AAAAKMQbgAAgFEINwAAwCiEGwAAYBTCDQAAMArhBgAAGIVwAwAAjEK4AQAARiHcAAAAoxBuAACAUQg3AADAKIQbAABgFMINAAAwCuEGAAAYhXADAACMQrgBAABGIdwAAACjEG4AAIBRCDcAAMAohBsAAGAUwg0AADAK4QYAABiFcAMAAIxCuAEAAEYh3AAAAKMQbgAAgFEINwAAwCiEGwAAYBTCDQAAMArhBgAAGIVwAwAAjEK4AQAARiHcAAAAoxBuAACAUQg3AADAKIQbAABgFMINAAAwCuEGAAAYhXADAACMQrgBAABGIdwAAACjeDTcLFy4UA8++KD8/f0VGBioxx57TCdPnqx1zK5du2Sz2aptJ06caKSqAQBAU+bRcLN7925NmTJF+/fvV1ZWlq5cuaLY2FiVl5ffdOzJkydlt9sdW7du3RqhYgAA0NR5efLLt2/f7rSfnp6uwMBAHThwQIMHD651bGBgoO66666bfkdFRYUqKioc+2VlZS7VCgAAmocmteamtLRUknTPPffctG/fvn0VEhKimJgYZWdn37DfwoULFRAQ4NjCwsLcVi8AAGh6mky4sSxLiYmJGjhwoHr37n3DfiEhIVq9erUyMzO1ceNGRUREKCYmRnv27Kmx/9y5c1VaWurYioqKGuoUAABAE+DRx1I/NHXqVB05ckR//vOfa+0XERGhiIgIx350dLSKioq0ZMmSGh9l+fr6ytfX1+31AgCApqlJ3Ll58cUX9eGHHyo7O1sdOnSo9/j+/fvr1KlTDVAZAABobjx658ayLL344ovatGmTdu3apfDwcJeOk5eXp5CQEDdXBwAAmiOPhpspU6bo3Xff1X/+53/K399fJSUlkqSAgAC1bNlS0rU1M8XFxXrnnXckSSkpKercubN69eqlyspKrV27VpmZmcrMzPTYeQAAgKbDo+Fm5cqVkqShQ4c6taenp2vSpEmSJLvdrsLCQsdnlZWVSkpKUnFxsVq2bKlevXppy5YtiouLa6yyAQBAE+bxx1I3k5GR4bQ/e/ZszZ49u4EqAgAAzV2TWFAMAADgLoQbAABgFMINAAAwCuEGAAAYhXADAACMQrgBAABGIdwAAACjEG4AAIBRCDcAAMAohBsAAGAUwg0AADAK4QYAABiFcAMAAIxCuAEAAEYh3AAAAKMQbgAAgFEINwAAwCiEGwAAYBTCDQAAMArhBgAAGIVwAwAAjEK4AQAARiHcAAAAoxBuAACAUQg3AADAKIQbAABgFMINAAAwCuEGAAAYhXADAACMQrgBAABGIdwAAACjEG4AAIBRCDcAAMAohBsAAGAUwg0AADAK4QYAABiFcAMAAIxCuAEAAEYh3AAAAKMQbgAAgFEINwAAwCiEGwAAYBTCDQAAMArhBgAAGIVwAwAAjEK4AQAARiHcAAAAo3g03CxcuFAPPvig/P39FRgYqMcee0wnT5686bjdu3crMjJSfn5+6tKli1JTUxuhWgAA0Bx4NNzs3r1bU6ZM0f79+5WVlaUrV64oNjZW5eXlNxyTn5+vuLg4DRo0SHl5eZo3b56mTZumzMzMRqwcAAA0VV6e/PLt27c77aenpyswMFAHDhzQ4MGDaxyTmpqqjh07KiUlRZLUo0cP5ebmasmSJRo7dmxDlwwAAJq4JrXmprS0VJJ0zz333LBPTk6OYmNjndpGjBih3NxcXb58uVr/iooKlZWVOW0AAMBcHr1z80OWZSkxMVEDBw5U7969b9ivpKREQUFBTm1BQUG6cuWKzp49q5CQEKfPFi5cqPnz5zdIzUB9dJ6zxdMl1NvXix71dAkAUG9N5s7N1KlTdeTIEb333ns37Wuz2Zz2LcuqsV2S5s6dq9LSUsdWVFTknoIBAECT1CTu3Lz44ov68MMPtWfPHnXo0KHWvsHBwSopKXFqO3PmjLy8vNS2bdtq/X19feXr6+vWegEAQNPl0Ts3lmVp6tSp2rhxo3bu3Knw8PCbjomOjlZWVpZT244dOxQVFSVvb++GKhUAADQTHg03U6ZM0dq1a/Xuu+/K399fJSUlKikp0f/+7/86+sydO1cTJ0507E+ePFkFBQVKTEzU8ePHtWbNGqWlpSkpKckTpwAAAJoYj4ablStXqrS0VEOHDlVISIhjW79+vaOP3W5XYWGhYz88PFxbt27Vrl271KdPHy1YsEDLli3jZ+AAAECSh9fcXF8IXJuMjIxqbUOGDNHBgwcboCIAANDcNZlfSwEAALgD4QYAABiFcAMAAIxCuAEAAEYh3AAAAKMQbgAAgFEINwAAwCiEGwAAYBTCDQAAMArhBgAAGIVwAwAAjOJSuMnPz3d3HQAAAG7hUrjp2rWrhg0bprVr1+rSpUvurgkAAMBlLoWbw4cPq2/fvpo1a5aCg4P1q1/9Sp988om7awMAAKg3l8JN7969lZycrOLiYqWnp6ukpEQDBw5Ur169lJycrL/97W/urhMAAKBObmlBsZeXl8aMGaP3339fr732mr766islJSWpQ4cOmjhxoux2u7vqBAAAqJNbCje5ubl64YUXFBISouTkZCUlJemrr77Szp07VVxcrNGjR7urTgAAgDrxcmVQcnKy0tPTdfLkScXFxemdd95RXFyc7rjjWlYKDw/XqlWrdO+997q1WAAAgJtxKdysXLlSzz77rJ555hkFBwfX2Kdjx45KS0u7peIAAADqy6Vwc+rUqZv28fHxUXx8vCuHBwAAcJlLa27S09P1wQcfVGv/4IMP9Pbbb99yUQAAAK5yKdwsWrRI7dq1q9YeGBiof/mXf7nlogAAAFzlUrgpKChQeHh4tfZOnTqpsLDwlosCAABwlUvhJjAwUEeOHKnWfvjwYbVt2/aWiwIAAHCVS+HmiSee0LRp05Sdna2rV6/q6tWr2rlzp6ZPn64nnnjC3TUCAADUmUu/lvr973+vgoICxcTEyMvr2iGqqqo0ceJE1twAAACPcinc+Pj4aP369VqwYIEOHz6sli1b6r777lOnTp3cXR8AAEC9uBRuruvevbu6d+/urloAAABumUvh5urVq8rIyNCf/vQnnTlzRlVVVU6f79y50y3FAQAA1JdL4Wb69OnKyMjQo48+qt69e8tms7m7LgAAAJe4FG7WrVun999/X3Fxce6uBwAA4Ja49FNwHx8fde3a1d21AAAA3DKXws2sWbP05ptvyrIsd9cDAABwS1x6LPXnP/9Z2dnZ2rZtm3r16iVvb2+nzzdu3OiW4gAAAOrLpXBz1113acyYMe6uBQAA4Ja5FG7S09PdXQcAAIBbuLTmRpKuXLmi//mf/9GqVat04cIFSdLp06d18eJFtxUHAABQXy7duSkoKNAjjzyiwsJCVVRUaPjw4fL399frr7+uS5cuKTU11d11AgAA1IlLd26mT5+uqKgonT9/Xi1btnS0jxkzRn/605/cVhwAAEB9ufxrqY8//lg+Pj5O7Z06dVJxcbFbCgMAAHCFS3duqqqqdPXq1Wrt33zzjfz9/W+5KAAAAFe5FG6GDx+ulJQUx77NZtPFixf1yiuv8EoGAADgUS49lnrjjTc0bNgw9ezZU5cuXdJTTz2lU6dOqV27dnrvvffcXSMAAECduRRuQkNDdejQIb333ns6ePCgqqqqlJCQoPHjxzstMAYAAGhsLoUbSWrZsqWeffZZPfvss+6sBwAA4Ja4FG7eeeedWj+fOHGiS8UAAADcKpfCzfTp0532L1++rO+//14+Pj5q1aoV4QYAAHiMS7+WOn/+vNN28eJFnTx5UgMHDmRBMQAA8CiX3y31Y926ddOiRYuq3dWpzZ49ezRq1CiFhobKZrNp8+bNtfbftWuXbDZbte3EiRO3WD0AADCFywuKa9KiRQudPn26zv3Ly8v1wAMP6JlnntHYsWPrPO7kyZNq06aNY799+/b1qhMAAJjLpXDz4YcfOu1bliW73a633npL//iP/1jn44wcOVIjR46s9/cHBgbqrrvuqvc4AABgPpfCzWOPPea0b7PZ1L59ez388MNaunSpO+qqVd++fXXp0iX17NlTv/3tbzVs2LAb9q2oqFBFRYVjv6ysrMHrAwAAnuNSuKmqqnJ3HXUSEhKi1atXKzIyUhUVFfr3f/93xcTEaNeuXRo8eHCNYxYuXKj58+c3cqUAAMBT3LrmpqFFREQoIiLCsR8dHa2ioiItWbLkhuFm7ty5SkxMdOyXlZUpLCyswWsFAACe4VK4+WFYuJnk5GRXvqLO+vfvr7Vr197wc19fX/n6+jZoDQAAoOlwKdzk5eXp4MGDunLliuNOyhdffKEWLVqoX79+jn42m809Vd6klpCQkAb/HgAA0Dy4FG5GjRolf39/vf3227r77rslXfuL/Z555hkNGjRIs2bNqtNxLl68qC+//NKxn5+fr0OHDumee+5Rx44dNXfuXBUXFzte95CSkqLOnTurV69eqqys1Nq1a5WZmanMzExXTgMAABjIpXCzdOlS7dixwxFsJOnuu+/W73//e8XGxtY53OTm5jr90un64674+HhlZGTIbrersLDQ8XllZaWSkpJUXFysli1bqlevXtqyZYvi4uJcOQ0AAGAgl8JNWVmZvv32W/Xq1cup/cyZM7pw4UKdjzN06FBZlnXDzzMyMpz2Z8+erdmzZ9erVgAAcHtx6fULY8aM0TPPPKMNGzbom2++0TfffKMNGzYoISFBjz/+uLtrBAAAqDOX7tykpqYqKSlJTz/9tC5fvnztQF5eSkhI0OLFi91aIAAAQH24FG5atWqlFStWaPHixfrqq69kWZa6du2q1q1bu7s+AACAermlt4Lb7XbZ7XZ1795drVu3rnX9DAAAQGNwKdycO3dOMTEx6t69u+Li4mS32yVJzz33XJ1/KQUAANAQXAo3M2fOlLe3twoLC9WqVStH+7hx47R9+3a3FQcAAFBfLq252bFjh/77v/9bHTp0cGrv1q2bCgoK3FIYAACAK1y6c1NeXu50x+a6s2fP8h4nAADgUS6Fm8GDBzteiSBde4dUVVWVFi9e7PQ3DgMAADQ2lx5LLV68WEOHDlVubq4qKys1e/Zsff755/ruu+/08ccfu7tGAACAOnPpzk3Pnj115MgRPfTQQxo+fLjKy8v1+OOPKy8vTz/96U/dXSMAAECd1fvOzeXLlxUbG6tVq1Zp/vz5DVETAACAy+p958bb21tHjx6VzWZriHoAAABuiUuPpSZOnKi0tDR31wIAAHDLXFpQXFlZqT/+8Y/KyspSVFRUtXdKJScnu6U4AACA+qpXuPnrX/+qzp076+jRo+rXr58k6YsvvnDqw+MqAADgSfUKN926dZPdbld2draka69bWLZsmYKCghqkOAAAgPqq15qbH7/1e9u2bSovL3drQQAAALfCpQXF1/047AAAAHhavcKNzWartqaGNTYAAKApqdeaG8uyNGnSJMfLMS9duqTJkydX+7XUxo0b3VchAABAPdQr3MTHxzvtP/30024tBgAA4FbVK9ykp6c3VB0AAABucUsLigEAAJoawg0AADAK4QYAABiFcAMAAIxCuAEAAEYh3AAAAKMQbgAAgFEINwAAwCiEGwAAYBTCDQAAMArhBgAAGIVwAwAAjEK4AQAARiHcAAAAoxBuAACAUQg3AADAKIQbAABgFMINAAAwCuEGAAAYhXADAACMQrgBAABGIdwAAACjEG4AAIBRCDcAAMAohBsAAGAUj4abPXv2aNSoUQoNDZXNZtPmzZtvOmb37t2KjIyUn5+funTpotTU1IYvFAAANBseDTfl5eV64IEH9NZbb9Wpf35+vuLi4jRo0CDl5eVp3rx5mjZtmjIzMxu4UgAA0Fx4efLLR44cqZEjR9a5f2pqqjp27KiUlBRJUo8ePZSbm6slS5Zo7NixNY6pqKhQRUWFY7+srOyWagYAAE2bR8NNfeXk5Cg2NtapbcSIEUpLS9Ply5fl7e1dbczChQs1f/78xiqxWeo8Z4unS6i3rxc96ukSALdpjv8MSvxziKarWS0oLikpUVBQkFNbUFCQrly5orNnz9Y4Zu7cuSotLXVsRUVFjVEqAADwkGZ150aSbDab075lWTW2X+fr6ytfX98GrwsAADQNzerOTXBwsEpKSpzazpw5Iy8vL7Vt29ZDVQEAgKakWYWb6OhoZWVlObXt2LFDUVFRNa63AQAAtx+PhpuLFy/q0KFDOnTokKRrP/U+dOiQCgsLJV1bLzNx4kRH/8mTJ6ugoECJiYk6fvy41qxZo7S0NCUlJXmifAAA0AR5dM1Nbm6uhg0b5thPTEyUJMXHxysjI0N2u90RdCQpPDxcW7du1cyZM7V8+XKFhoZq2bJlN/wZOAAAuP14NNwMHTrUsSC4JhkZGdXahgwZooMHDzZgVQAAoDlrVmtuAAAAboZwAwAAjEK4AQAARiHcAAAAoxBuAACAUQg3AADAKIQbAABgFMINAAAwCuEGAAAYhXADAACMQrgBAABGIdwAAACjEG4AAIBRCDcAAMAohBsAAGAUwg0AADAK4QYAABiFcAMAAIxCuAEAAEYh3AAAAKMQbgAAgFEINwAAwCiEGwAAYBTCDQAAMArhBgAAGIVwAwAAjEK4AQAARiHcAAAAoxBuAACAUQg3AADAKIQbAABgFMINAAAwCuEGAAAYhXADAACMQrgBAABGIdwAAACjEG4AAIBRCDcAAMAohBsAAGAUwg0AADAK4QYAABiFcAMAAIxCuAEAAEYh3AAAAKMQbgAAgFEINwAAwCiEGwAAYBSPh5sVK1YoPDxcfn5+ioyM1N69e2/Yd9euXbLZbNW2EydONGLFAACgKfNouFm/fr1mzJihl156SXl5eRo0aJBGjhypwsLCWsedPHlSdrvdsXXr1q2RKgYAAE2dR8NNcnKyEhIS9Nxzz6lHjx5KSUlRWFiYVq5cWeu4wMBABQcHO7YWLVo0UsUAAKCp81i4qays1IEDBxQbG+vUHhsbq3379tU6tm/fvgoJCVFMTIyys7Nr7VtRUaGysjKnDQAAmMtj4ebs2bO6evWqgoKCnNqDgoJUUlJS45iQkBCtXr1amZmZ2rhxoyIiIhQTE6M9e/bc8HsWLlyogIAAxxYWFubW8wAAAE2Ll6cLsNlsTvuWZVVruy4iIkIRERGO/ejoaBUVFWnJkiUaPHhwjWPmzp2rxMREx35ZWRkBBwAAg3nszk27du3UokWLandpzpw5U+1uTm369++vU6dO3fBzX19ftWnTxmkDAADm8li48fHxUWRkpLKyspzas7KyNGDAgDofJy8vTyEhIe4uDwAANFMefSyVmJioCRMmKCoqStHR0Vq9erUKCws1efJkSdceKRUXF+udd96RJKWkpKhz587q1auXKisrtXbtWmVmZiozM9OTpwEAAJoQj4abcePG6dy5c/rd734nu92u3r17a+vWrerUqZMkyW63O/2dN5WVlUpKSlJxcbFatmypXr16acuWLYqLi/PUKQAAgCbG4wuKX3jhBb3wwgs1fpaRkeG0P3v2bM2ePbsRqgIAAM2Vx1+/AAAA4E6EGwAAYBTCDQAAMArhBgAAGIVwAwAAjEK4AQAARiHcAAAAoxBuAACAUQg3AADAKIQbAABgFMINAAAwCuEGAAAYhXADAACMQrgBAABGIdwAAACjEG4AAIBRCDcAAMAohBsAAGAUwg0AADAK4QYAABiFcAMAAIxCuAEAAEYh3AAAAKMQbgAAgFEINwAAwCiEGwAAYBTCDQAAMArhBgAAGIVwAwAAjEK4AQAARiHcAAAAoxBuAACAUQg3AADAKIQbAABgFMINAAAwCuEGAAAYhXADAACMQrgBAABGIdwAAACjEG4AAIBRCDcAAMAohBsAAGAUwg0AADAK4QYAABiFcAMAAIxCuAEAAEYh3AAAAKMQbgAAgFE8Hm5WrFih8PBw+fn5KTIyUnv37q21/+7duxUZGSk/Pz916dJFqampjVQpAABoDjwabtavX68ZM2bopZdeUl5engYNGqSRI0eqsLCwxv75+fmKi4vToEGDlJeXp3nz5mnatGnKzMxs5MoBAEBT5dFwk5ycrISEBD333HPq0aOHUlJSFBYWppUrV9bYPzU1VR07dlRKSop69Oih5557Ts8++6yWLFnSyJUDAICmystTX1xZWakDBw5ozpw5Tu2xsbHat29fjWNycnIUGxvr1DZixAilpaXp8uXL8vb2rjamoqJCFRUVjv3S0lJJUllZ2a2eQo2qKr5vkOPCWUP9/9eQmuO10RznuTlqjteGxPXRWJrj9dEQ18b1Y1qWddO+Hgs3Z8+e1dWrVxUUFOTUHhQUpJKSkhrHlJSU1Nj/ypUrOnv2rEJCQqqNWbhwoebPn1+tPSws7Baqh6cFpHi6gtsD84zacH3gRhry2rhw4YICAgJq7eOxcHOdzWZz2rcsq1rbzfrX1H7d3LlzlZiY6NivqqrSd999p7Zt29b6Pa4qKytTWFiYioqK1KZNG7cfH86Y78bFfDcu5rvxMNeNy5X5tixLFy5cUGho6E37eizctGvXTi1atKh2l+bMmTPV7s5cFxwcXGN/Ly8vtW3btsYxvr6+8vX1dWq76667XC+8jtq0acM/II2I+W5czHfjYr4bD3PduOo73ze7Y3OdxxYU+/j4KDIyUllZWU7tWVlZGjBgQI1joqOjq/XfsWOHoqKialxvAwAAbj8e/bVUYmKi/vjHP2rNmjU6fvy4Zs6cqcLCQk2ePFnStUdKEydOdPSfPHmyCgoKlJiYqOPHj2vNmjVKS0tTUlKSp04BAAA0MR5dczNu3DidO3dOv/vd72S329W7d29t3bpVnTp1kiTZ7Xanv/MmPDxcW7du1cyZM7V8+XKFhoZq2bJlGjt2rKdOoRpfX1+98sor1R6FoWEw342L+W5czHfjYa4bV0PPt82qy2+qAAAAmgmPv34BAADAnQg3AADAKIQbAABgFMINAAAwCuHGDf7whz9owIABatWqVZ3/gsBJkybJZrM5bf3792/YQg3hynxblqVXX31VoaGhatmypYYOHarPP/+8YQs1wPnz5zVhwgQFBAQoICBAEyZM0N///vdax3Bt192KFSsUHh4uPz8/RUZGau/evbX23717tyIjI+Xn56cuXbooNTW1kSo1Q33me9euXdWuY5vNphMnTjRixc3Xnj17NGrUKIWGhspms2nz5s03HePO65tw4waVlZX6xS9+oV//+tf1GvfII4/Ibrc7tq1btzZQhWZxZb5ff/11JScn66233tKnn36q4OBgDR8+XBcuXGjASpu/p556SocOHdL27du1fft2HTp0SBMmTLjpOK7tm1u/fr1mzJihl156SXl5eRo0aJBGjhzp9Ndf/FB+fr7i4uI0aNAg5eXlad68eZo2bZoyMzMbufLmqb7zfd3JkyedruVu3bo1UsXNW3l5uR544AG99dZbderv9uvbgtukp6dbAQEBdeobHx9vjR49ukHrMV1d57uqqsoKDg62Fi1a5Gi7dOmSFRAQYKWmpjZghc3bsWPHLEnW/v37HW05OTmWJOvEiRM3HMe1XTcPPfSQNXnyZKe2e++915ozZ06N/WfPnm3de++9Tm2/+tWvrP79+zdYjSap73xnZ2dbkqzz5883QnVmk2Rt2rSp1j7uvr65c+NBu3btUmBgoLp3767nn39eZ86c8XRJRsrPz1dJSYliY2Mdbb6+vhoyZIj27dvnwcqatpycHAUEBOgf/uEfHG39+/dXQEDATeeNa7t2lZWVOnDggNM1KUmxsbE3nNucnJxq/UeMGKHc3Fxdvny5wWo1gSvzfV3fvn0VEhKimJgYZWdnN2SZtzV3X9+EGw8ZOXKk/uM//kM7d+7U0qVL9emnn+rhhx9WRUWFp0szzvWXrf74haxBQUHVXsSK/6+kpESBgYHV2gMDA2udN67tmzt79qyuXr1ar2uypKSkxv5XrlzR2bNnG6xWE7gy3yEhIVq9erUyMzO1ceNGRUREKCYmRnv27GmMkm877r6+CTc38Oqrr9a4mOyHW25ursvHHzdunB599FH17t1bo0aN0rZt2/TFF19oy5YtbjyL5qOh51uSbDab075lWdXabgf1meua5udm88a1XXf1vSZr6l9TO2pWn/mOiIjQ888/r379+ik6OlorVqzQo48+qiVLljRGqbcld17fHn23VFM2depUPfHEE7X26dy5s9u+LyQkRJ06ddKpU6fcdszmpCHnOzg4WNK1/zIICQlxtJ85c6bafyncDuo610eOHNG3335b7bO//e1v9Zq32/3arkm7du3UokWLancNarsmg4ODa+zv5eWltm3bNlitJnBlvmvSv39/rV271t3lQe6/vgk3N9CuXTu1a9eu0b7v3LlzKioqcvrD93bSkPMdHh6u4OBgZWVlqW/fvpKuPYPfvXu3XnvttQb5zqasrnMdHR2t0tJSffLJJ3rooYckSX/5y19UWlqqAQMG1Pn7bvdruyY+Pj6KjIxUVlaWxowZ42jPysrS6NGjaxwTHR2tjz76yKltx44dioqKkre3d4PW29y5Mt81ycvL4zpuIG6/vl1ahgwnBQUFVl5enjV//nzrzjvvtPLy8qy8vDzrwoULjj4RERHWxo0bLcuyrAsXLlizZs2y9u3bZ+Xn51vZ2dlWdHS09ZOf/MQqKyvz1Gk0G/Wdb8uyrEWLFlkBAQHWxo0brc8++8x68sknrZCQEOb7Jh555BHr/vvvt3JycqycnBzrvvvus37+85879eHads26dessb29vKy0tzTp27Jg1Y8YMq3Xr1tbXX39tWZZlzZkzx5owYYKj/1//+lerVatW1syZM61jx45ZaWlplre3t7VhwwZPnUKzUt/5fuONN6xNmzZZX3zxhXX06FFrzpw5liQrMzPTU6fQrFy4cMHx72ZJVnJyspWXl2cVFBRYltXw1zfhxg3i4+MtSdW27OxsRx9JVnp6umVZlvX9999bsbGxVvv27S1vb2+rY8eOVnx8vFVYWOiZE2hm6jvflnXt5+CvvPKKFRwcbPn6+lqDBw+2Pvvss8Yvvpk5d+6cNX78eMvf39/y9/e3xo8fX+2nsVzbrlu+fLnVqVMny8fHx+rXr5+1e/dux2fx8fHWkCFDnPrv2rXL6tu3r+Xj42N17tzZWrlyZSNX3LzVZ75fe+0166c//anl5+dn3X333dbAgQOtLVu2eKDq5un6T+l/vMXHx1uW1fDXt82y/m/FDgAAgAH4tRQAADAK4QYAABiFcAMAAIxCuAEAAEYh3AAAAKMQbgAAgFEINwAAwCiEGwAAYBTCDYBmwWazafPmzXXu/+qrr6pPnz619pk0aZIee+yxW6oLQNNDuAHgFqNGjdLPfvazGj/LycmRzWbTwYMHXT6+3W7XyJEjXR4P4PZBuAHgFgkJCdq5c6cKCgqqfbZmzRr16dNH/fr1q/dxKysrJUnBwcHy9fW95ToBmI9wA8Atfv7znyswMFAZGRlO7d9//73Wr1+vhIQEnTt3Tk8++aQ6dOigVq1a6b777tN7773n1H/o0KGaOnWqEhMT1a5dOw0fPlxS9cdSv/nNb9S9e3e1atVKXbp00csvv6zLly9Xq2vVqlUKCwtTq1at9Itf/EJ///vfb3gOlmXp9ddfV5cuXdSyZUs98MAD2rBhQ63nvXbtWkVFRcnf31/BwcF66qmndObMmdonC0CDItwAcAsvLy9NnDhRGRkZ+uH7eD/44ANVVlZq/PjxunTpkiIjI/Vf//VfOnr0qP7pn/5JEyZM0F/+8henY7399tvy8vLSxx9/rFWrVtX4ff7+/srIyNCxY8f05ptv6t/+7d/0xhtvOPX58ssv9f777+ujjz7S9u3bdejQIU2ZMuWG5/Db3/5W6enpWrlypT7//HPNnDlTTz/9tHbv3n3DMZWVlVqwYIEOHz6szZs3Kz8/X5MmTarDjAFoMC6/TxwAfuT48eOWJGvnzp2OtsGDB1tPPvnkDcfExcVZs2bNcuwPGTLE6tOnT7V+kqxNmzbd8Divv/66FRkZ6dh/5ZVXrBYtWlhFRUWOtm3btll33HGHZbfbLcuyrPj4eGv06NGWZVnWxYsXLT8/P2vfvn1Ox01ISKi1/h/75JNPLEnWhQsX6jwGgHt5eThbATDIvffeqwEDBmjNmjUaNmyYvvrqK+3du1c7duyQJF29elWLFi3S+vXrVVxcrIqKClVUVKh169ZOx4mKirrpd23YsEEpKSn68ssvdfHiRV25ckVt2rRx6tOxY0d16NDBsR8dHa2qqiqdPHlSwcHBTn2PHTumS5cuOR6DXVdZWam+ffvesI68vDy9+uqrOnTokL777jtVVVVJkgoLC9WzZ8+bngcA9yPcAHCrhIQETZ06VcuXL1d6ero6deqkmJgYSdLSpUv1xhtvKCUlRffdd59at26tGTNmOBYNX/fjsPNj+/fv1xNPPKH58+drxIgRCggI0Lp167R06dJax9lsNqf//aHroWTLli36yU9+4vTZjRYyl5eXKzY2VrGxsVq7dq3at2+vwsJCjRgxoto5AWg8hBsAbvXLX/5S06dP17vvvqu3335bzz//vCNM7N27V6NHj9bTTz8t6VqgOHXqlHr06FGv7/j444/VqVMnvfTSS462mn6lVVhYqNOnTys0NFTStZ+k33HHHerevXu1vj179pSvr68KCws1ZMiQOtVx4sQJnT17VosWLVJYWJgkKTc3t17nAsD9CDcA3OrOO+/UuHHjNG/ePJWWljotru3atasyMzO1b98+3X333UpOTlZJSUm9w03Xrl1VWFiodevW6cEHH9SWLVu0adOmav38/PwUHx+vJUuWqKysTNOmTdMvf/nLao+kpGsLlJOSkjRz5kxVVVVp4MCBKisr0759+3TnnXcqPj6+2piOHTvKx8dH//qv/6rJkyfr6NGjWrBgQb3OBYD78WspAG6XkJCg8+fP62c/+5k6duzoaH/55ZfVr18/jRgxQkOHDlVwcLBLf0Pw6NGjNXPmTE2dOlV9+vTRvn379PLLL1fr17VrVz3++OOKi4tTbGysevfurRUrVtzwuAsWLNA///M/a+HCherRo4dGjBihjz76SOHh4TX2b9++vTIyMvTBBx+oZ8+eWrRokZYsWVLv8wHgXjbL+sFvNgEAAJo57twAAACjEG4AAIBRCDcAAMAohBsAAGAUwg0AADAK4QYAABiFcAMAAIxCuAEAAEYh3AAAAKMQbgAAgFEINwAAwCj/D5id510IbjuOAAAAAElFTkSuQmCC",
=======
      "image/png": "iVBORw0KGgoAAAANSUhEUgAAAjsAAAGwCAYAAABPSaTdAAAAOXRFWHRTb2Z0d2FyZQBNYXRwbG90bGliIHZlcnNpb24zLjUuMiwgaHR0cHM6Ly9tYXRwbG90bGliLm9yZy8qNh9FAAAACXBIWXMAAA9hAAAPYQGoP6dpAAAo+klEQVR4nO3df1TUdb7H8dcEgmDAisivKyKbsqvhqRW7FtdUUjFM80c3NbfEorZu4kbIrczbZreumCa6d01z9xpo5o9q1dxrteJqlHG9pWmu7uaqqajAJZVATAeF7/2j45wdEZNx6Dt8fD7OmRPznc8M7+8cTzzPd74z47AsyxIAAIChrrN7AAAAgJZE7AAAAKMROwAAwGjEDgAAMBqxAwAAjEbsAAAAoxE7AADAaP52D+ALGhoaVFZWppCQEDkcDrvHAQAAV8CyLJ06dUqxsbG67rqmj98QO5LKysoUFxdn9xgAAMADR44cUadOnZq8ndiRFBISIum7Jys0NNTmaQAAwJWoqalRXFyc6+94U4gdyfXSVWhoKLEDAEAr832noHCCMgAAMBqxAwAAjEbsAAAAoxE7AADAaMQOAAAwGrEDAACMRuwAAACjETsAAMBoxA4AADAasQMAAIxG7AAAAKMROwAAwGjEDgAAMBqxAwAAjEbsAAAAo/nbPQAAtLQuz6y3e4RmOzTzLrtHAIzBkR0AAGA0YgcAABiN2AEAAEYjdgAAgNGIHQAAYDRiBwAAGM3W2MnLy9Mtt9yikJAQRUZGauTIkdq7d6/bmokTJ8rhcLhdbr31Vrc1TqdTkydPVkREhNq1a6e7775bR48e/SF3BQAA+ChbY6e4uFiTJk3S1q1bVVRUpPPnzystLU2nT592W3fnnXeqvLzcdXnvvffcbs/OztaaNWu0cuVKbdmyRbW1tRo2bJjq6+t/yN0BAAA+yNYPFfzggw/crhcUFCgyMlLbt29Xv379XNsDAwMVHR19yceorq7W4sWL9cYbb2jQoEGSpGXLlikuLk4bN27UkCFDWm4HAACAz/Opc3aqq6slSeHh4W7bP/zwQ0VGRioxMVGPPPKIKisrXbdt375d586dU1pammtbbGyskpKSVFJScsnf43Q6VVNT43YBAABm8pnYsSxLOTk56tu3r5KSklzb09PT9eabb2rTpk2aM2eOPvvsM91xxx1yOp2SpIqKCgUEBKh9+/ZujxcVFaWKiopL/q68vDyFhYW5LnFxcS23YwAAwFY+891YWVlZ2rVrl7Zs2eK2fezYsa6fk5KS1Lt3b8XHx2v9+vUaPXp0k49nWZYcDsclb5s6dapycnJc12tqaggeAAAM5RNHdiZPnqx169Zp8+bN6tSp02XXxsTEKD4+Xvv27ZMkRUdHq66uTlVVVW7rKisrFRUVdcnHCAwMVGhoqNsFAACYydbYsSxLWVlZWr16tTZt2qSEhITvvc+JEyd05MgRxcTESJKSk5PVpk0bFRUVudaUl5dr9+7dSklJabHZAQBA62Dry1iTJk3S8uXL9e677yokJMR1jk1YWJiCgoJUW1ur6dOn65577lFMTIwOHTqkZ599VhERERo1apRrbWZmpqZMmaIOHTooPDxcubm56tmzp+vdWQAA4Npla+wsXLhQkjRgwAC37QUFBZo4caL8/Pz05z//WUuXLtU333yjmJgYpaamatWqVQoJCXGtnzt3rvz9/TVmzBidOXNGAwcOVGFhofz8/H7I3QEAAD7IYVmWZfcQdqupqVFYWJiqq6s5fwcwUJdn1ts9QrMdmnmX3SMAPu9K/377xAnKAAAALYXYAQAARiN2AACA0YgdAABgNGIHAAAYjdgBAABGI3YAAIDRiB0AAGA0YgcAABiN2AEAAEYjdgAAgNGIHQAAYDRiBwAAGI3YAQAARiN2AACA0YgdAABgNGIHAAAYjdgBAABGI3YAAIDRiB0AAGA0YgcAABiN2AEAAEYjdgAAgNGIHQAAYDRiBwAAGI3YAQAARiN2AACA0YgdAABgNGIHAAAYjdgBAABGI3YAAIDRiB0AAGA0YgcAABiN2AEAAEYjdgAAgNGIHQAAYDRiBwAAGI3YAQAARiN2AACA0YgdAABgNGIHAAAYjdgBAABGI3YAAIDRiB0AAGA0YgcAABiN2AEAAEYjdgAAgNGIHQAAYDRiBwAAGI3YAQAARiN2AACA0YgdAABgNGIHAAAYjdgBAABGI3YAAIDRiB0AAGA0YgcAABjN385fnpeXp9WrV+vLL79UUFCQUlJS9PLLL+snP/mJa41lWXrhhRf029/+VlVVVerTp49effVV3Xjjja41TqdTubm5WrFihc6cOaOBAwdqwYIF6tSpkx27BRityzPr7R4BAJrF1iM7xcXFmjRpkrZu3aqioiKdP39eaWlpOn36tGvNrFmzlJ+fr/nz5+uzzz5TdHS0Bg8erFOnTrnWZGdna82aNVq5cqW2bNmi2tpaDRs2TPX19XbsFgAA8CEOy7Isu4e44Ouvv1ZkZKSKi4vVr18/WZal2NhYZWdn6+mnn5b03VGcqKgovfzyy3r00UdVXV2tjh076o033tDYsWMlSWVlZYqLi9N7772nIUOGfO/vrampUVhYmKqrqxUaGtqi+wi0dhzZ+WEcmnmX3SMAPu9K/3771Dk71dXVkqTw8HBJ0sGDB1VRUaG0tDTXmsDAQPXv318lJSWSpO3bt+vcuXNua2JjY5WUlORaczGn06mamhq3CwAAMJPPxI5lWcrJyVHfvn2VlJQkSaqoqJAkRUVFua2Niopy3VZRUaGAgAC1b9++yTUXy8vLU1hYmOsSFxfn7d0BAAA+wmdiJysrS7t27dKKFSsa3eZwONyuW5bVaNvFLrdm6tSpqq6udl2OHDni+eAAAMCn+UTsTJ48WevWrdPmzZvd3kEVHR0tSY2O0FRWVrqO9kRHR6uurk5VVVVNrrlYYGCgQkND3S4AAMBMtsaOZVnKysrS6tWrtWnTJiUkJLjdnpCQoOjoaBUVFbm21dXVqbi4WCkpKZKk5ORktWnTxm1NeXm5du/e7VoDAACuXbZ+zs6kSZO0fPlyvfvuuwoJCXEdwQkLC1NQUJAcDoeys7M1Y8YMdevWTd26ddOMGTMUHBys8ePHu9ZmZmZqypQp6tChg8LDw5Wbm6uePXtq0KBBdu4eAADwAbbGzsKFCyVJAwYMcNteUFCgiRMnSpKeeuopnTlzRo8//rjrQwU3bNigkJAQ1/q5c+fK399fY8aMcX2oYGFhofz8/H6oXQEAAD7Kpz5nxy58zg5w5ficnR8Gn7MDfL9W+Tk7AAAA3kbsAAAAoxE7AADAaMQOAAAwGrEDAACMZutbzwEAl9Ya3/XGO8jgqziyAwAAjEbsAAAAoxE7AADAaMQOAAAwGrEDAACMRuwAAACjETsAAMBoxA4AADAasQMAAIxG7AAAAKMROwAAwGjEDgAAMBqxAwAAjEbsAAAAoxE7AADAaMQOAAAwGrEDAACMRuwAAACjETsAAMBoxA4AADAasQMAAIxG7AAAAKMROwAAwGjEDgAAMBqxAwAAjEbsAAAAoxE7AADAaMQOAAAwGrEDAACMRuwAAACjETsAAMBoxA4AADAasQMAAIxG7AAAAKMROwAAwGjEDgAAMBqxAwAAjEbsAAAAoxE7AADAaMQOAAAwGrEDAACMRuwAAACjETsAAMBoHsXOwYMHvT0HAABAi/Aodrp27arU1FQtW7ZMZ8+e9fZMAAAAXuNR7HzxxRf62c9+pilTpig6OlqPPvqoPv30U2/PBgAAcNU8ip2kpCTl5+fr2LFjKigoUEVFhfr27asbb7xR+fn5+vrrr709JwAAgEeu6gRlf39/jRo1Sm+99ZZefvllHThwQLm5uerUqZMmTJig8vJyb80JAADgkauKnW3btunxxx9XTEyM8vPzlZubqwMHDmjTpk06duyYRowY4a05AQAAPOLvyZ3y8/NVUFCgvXv3aujQoVq6dKmGDh2q6677rp0SEhK0aNEi/fSnP/XqsAAAAM3lUewsXLhQDz30kB588EFFR0dfck3nzp21ePHiqxoOAADgann0Mta+ffs0derUJkNHkgICApSRkXHZx/noo480fPhwxcbGyuFwaO3atW63T5w4UQ6Hw+1y6623uq1xOp2aPHmyIiIi1K5dO9199906evSoJ7sFAAAM5FHsFBQU6O233260/e2339aSJUuu+HFOnz6tm266SfPnz29yzZ133qny8nLX5b333nO7PTs7W2vWrNHKlSu1ZcsW1dbWatiwYaqvr7/yHQIAAMby6GWsmTNn6rXXXmu0PTIyUr/4xS++94jOBenp6UpPT7/smsDAwCaPIFVXV2vx4sV64403NGjQIEnSsmXLFBcXp40bN2rIkCFXNAcAADCXR0d2Dh8+rISEhEbb4+PjVVpaetVD/b0PP/xQkZGRSkxM1COPPKLKykrXbdu3b9e5c+eUlpbm2hYbG6ukpCSVlJQ0+ZhOp1M1NTVuFwAAYCaPYicyMlK7du1qtP2LL75Qhw4drnqoC9LT0/Xmm29q06ZNmjNnjj777DPdcccdcjqdkqSKigoFBASoffv2bveLiopSRUVFk4+bl5ensLAw1yUuLs5rMwMAAN/i0ctY48aN0y9/+UuFhISoX79+kqTi4mI98cQTGjdunNeGGzt2rOvnpKQk9e7dW/Hx8Vq/fr1Gjx7d5P0sy5LD4Wjy9qlTpyonJ8d1vaamhuABAMBQHsXOSy+9pMOHD2vgwIHy9//uIRoaGjRhwgTNmDHDqwP+vZiYGMXHx2vfvn2SpOjoaNXV1amqqsrt6E5lZaVSUlKafJzAwEAFBga22JwAAMB3ePQyVkBAgFatWqUvv/xSb775plavXq0DBw7o9ddfV0BAgLdndDlx4oSOHDmimJgYSVJycrLatGmjoqIi15ry8nLt3r37srEDAACuHR4d2bkgMTFRiYmJHt+/trZW+/fvd10/ePCgdu7cqfDwcIWHh2v69Om65557FBMTo0OHDunZZ59VRESERo0aJUkKCwtTZmampkyZog4dOig8PFy5ubnq2bOn691ZAADg2uZR7NTX16uwsFB/+tOfVFlZqYaGBrfbN23adEWPs23bNqWmprquXziPJiMjQwsXLtSf//xnLV26VN98841iYmKUmpqqVatWKSQkxHWfuXPnyt/fX2PGjNGZM2c0cOBAFRYWys/Pz5NdAwAAhnFYlmU1905ZWVkqLCzUXXfdpZiYmEYnA8+dO9drA/4QampqFBYWpurqaoWGhto9DuDTujyz3u4R4KMOzbzL7hFwjbnSv98eHdlZuXKl3nrrLQ0dOtTjAQEAAH4IHp+g3LVrV2/PAgAA4HUexc6UKVP061//Wh68AgYAAPCD8uhlrC1btmjz5s16//33deONN6pNmzZut69evdorwwEAAFwtj2LnRz/6kevt3wAAAL7Mo9gpKCjw9hwAAAAtwqNzdiTp/Pnz2rhxoxYtWqRTp05JksrKylRbW+u14QAAAK6WR0d2Dh8+rDvvvFOlpaVyOp0aPHiwQkJCNGvWLJ09e1avvfaat+cEAADwiEdHdp544gn17t1bVVVVCgoKcm0fNWqU/vSnP3ltOAAAgKvl8buxPvnkk0Zf+hkfH69jx455ZTAAAABv8OjITkNDg+rr6xttP3r0qNv3VgEAANjNo9gZPHiw5s2b57rucDhUW1ur559/nq+QAAAAPsWjl7Hmzp2r1NRU9ejRQ2fPntX48eO1b98+RUREaMWKFd6eEQAAwGMexU5sbKx27typFStW6PPPP1dDQ4MyMzP185//3O2EZQAAALt5FDuSFBQUpIceekgPPfSQN+cBAADwKo9iZ+nSpZe9fcKECR4NAwAA4G0exc4TTzzhdv3cuXP69ttvFRAQoODgYGIHAAD4DI/ejVVVVeV2qa2t1d69e9W3b19OUAYAAD7F4+/Guli3bt00c+bMRkd9AAAA7OS12JEkPz8/lZWVefMhAQAAropH5+ysW7fO7bplWSovL9f8+fP1T//0T14ZDAAAwBs8ip2RI0e6XXc4HOrYsaPuuOMOzZkzxxtzAQAAeIVHsdPQ0ODtOQAAAFqEV8/ZAQAA8DUeHdnJycm54rX5+fme/AoAAACv8Ch2duzYoc8//1znz5/XT37yE0nS3/72N/n5+alXr16udQ6HwztTAgAAeMij2Bk+fLhCQkK0ZMkStW/fXtJ3HzT44IMP6vbbb9eUKVO8OiQAAICnPDpnZ86cOcrLy3OFjiS1b99eL730Eu/GAgAAPsWj2KmpqdH//d//NdpeWVmpU6dOXfVQAAAA3uJR7IwaNUoPPvig3nnnHR09elRHjx7VO++8o8zMTI0ePdrbMwIAAHjMo3N2XnvtNeXm5ur+++/XuXPnvnsgf39lZmZq9uzZXh0QMFmXZ9bbPQIAGM+j2AkODtaCBQs0e/ZsHThwQJZlqWvXrmrXrp235wMAALgqV/WhguXl5SovL1diYqLatWsny7K8NRcAAIBXeBQ7J06c0MCBA5WYmKihQ4eqvLxckvTwww/ztnMAAOBTPIqdJ598Um3atFFpaamCg4Nd28eOHasPPvjAa8MBAABcLY/O2dmwYYP++Mc/qlOnTm7bu3XrpsOHD3tlMAAAAG/w6MjO6dOn3Y7oXHD8+HEFBgZe9VAAAADe4lHs9OvXT0uXLnVddzgcamho0OzZs5Wamuq14QAAAK6WRy9jzZ49WwMGDNC2bdtUV1enp556Snv27NHJkyf1ySefeHtGAAAAj3l0ZKdHjx7atWuX/vEf/1GDBw/W6dOnNXr0aO3YsUM33HCDt2cEAADwWLOP7Jw7d05paWlatGiRXnjhhZaYCQAAwGuafWSnTZs22r17txwOR0vMAwAA4FUevYw1YcIELV682NuzAAAAeJ1HJyjX1dXpv/7rv1RUVKTevXs3+k6s/Px8rwwHAABwtZoVO1999ZW6dOmi3bt3q1evXpKkv/3tb25reHkLAAD4kmbFTrdu3VReXq7NmzdL+u7rIf7zP/9TUVFRLTIcAADA1WpW7Fz8rebvv/++Tp8+7dWBAACtU5dn1ts9QrMdmnmX3SPgB+DRCcoXXBw/AAAAvqZZseNwOBqdk8M5OgAAwJc1+2WsiRMnur7s8+zZs3rssccavRtr9erV3psQAADgKjQrdjIyMtyu33///V4dBgAAwNuaFTsFBQUtNQcAAECLuKoTlAEAAHwdsQMAAIxG7AAAAKMROwAAwGjEDgAAMBqxAwAAjGZr7Hz00UcaPny4YmNj5XA4tHbtWrfbLcvS9OnTFRsbq6CgIA0YMEB79uxxW+N0OjV58mRFRESoXbt2uvvuu3X06NEfcC8AAIAvszV2Tp8+rZtuuknz58+/5O2zZs1Sfn6+5s+fr88++0zR0dEaPHiwTp065VqTnZ2tNWvWaOXKldqyZYtqa2s1bNgw1dfX/1C7AQAAfFizPlTQ29LT05Wenn7J2yzL0rx58zRt2jSNHj1akrRkyRJFRUVp+fLlevTRR1VdXa3FixfrjTfe0KBBgyRJy5YtU1xcnDZu3KghQ4Zc8rGdTqecTqfrek1NjZf3DAAA+AqfPWfn4MGDqqioUFpammtbYGCg+vfvr5KSEknS9u3bde7cObc1sbGxSkpKcq25lLy8PIWFhbkucXFxLbcjAADAVj4bOxUVFZKkqKgot+1RUVGu2yoqKhQQEKD27ds3ueZSpk6dqurqatflyJEjXp4eAAD4CltfxroSDofD7bplWY22Xez71gQGBrq+uR0AAJjNZ4/sREdHS1KjIzSVlZWuoz3R0dGqq6tTVVVVk2sAAMC1zWdjJyEhQdHR0SoqKnJtq6urU3FxsVJSUiRJycnJatOmjdua8vJy7d6927UGAABc22x9Gau2tlb79+93XT948KB27typ8PBwde7cWdnZ2ZoxY4a6deumbt26acaMGQoODtb48eMlSWFhYcrMzNSUKVPUoUMHhYeHKzc3Vz179nS9OwsAAFzbbI2dbdu2KTU11XU9JydHkpSRkaHCwkI99dRTOnPmjB5//HFVVVWpT58+2rBhg0JCQlz3mTt3rvz9/TVmzBidOXNGAwcOVGFhofz8/H7w/QEAAL7HYVmWZfcQdqupqVFYWJiqq6sVGhpq9zi4hnR5Zr3dIwDXtEMz77J7BFyFK/377bPn7AAAAHgDsQMAAIxG7AAAAKMROwAAwGjEDgAAMBqxAwAAjEbsAAAAoxE7AADAaMQOAAAwGrEDAACMRuwAAACjETsAAMBoxA4AADAasQMAAIxG7AAAAKMROwAAwGjEDgAAMBqxAwAAjEbsAAAAoxE7AADAaMQOAAAwGrEDAACMRuwAAACjETsAAMBoxA4AADAasQMAAIxG7AAAAKMROwAAwGjEDgAAMBqxAwAAjEbsAAAAoxE7AADAaMQOAAAwGrEDAACMRuwAAACjETsAAMBoxA4AADAasQMAAIxG7AAAAKMROwAAwGjEDgAAMBqxAwAAjEbsAAAAoxE7AADAaMQOAAAwGrEDAACMRuwAAACjETsAAMBoxA4AADAasQMAAIxG7AAAAKMROwAAwGjEDgAAMBqxAwAAjEbsAAAAoxE7AADAaMQOAAAwmk/HzvTp0+VwONwu0dHRrtsty9L06dMVGxuroKAgDRgwQHv27LFxYgAA4Gv87R7g+9x4443auHGj67qfn5/r51mzZik/P1+FhYVKTEzUSy+9pMGDB2vv3r0KCQmxY1zYqMsz6+0eAQDgg3z6yI4k+fv7Kzo62nXp2LGjpO+O6sybN0/Tpk3T6NGjlZSUpCVLlujbb7/V8uXLbZ4aAAD4Cp+PnX379ik2NlYJCQkaN26cvvrqK0nSwYMHVVFRobS0NNfawMBA9e/fXyUlJZd9TKfTqZqaGrcLAAAwk0/HTp8+fbR06VL98Y9/1O9+9ztVVFQoJSVFJ06cUEVFhSQpKirK7T5RUVGu25qSl5ensLAw1yUuLq7F9gEAANjLp2MnPT1d99xzj3r27KlBgwZp/frvzslYsmSJa43D4XC7j2VZjbZdbOrUqaqurnZdjhw54v3hAQCAT/Dp2LlYu3bt1LNnT+3bt8/1rqyLj+JUVlY2OtpzscDAQIWGhrpdAACAmVpV7DidTv31r39VTEyMEhISFB0draKiItftdXV1Ki4uVkpKio1TAgAAX+LTbz3Pzc3V8OHD1blzZ1VWVuqll15STU2NMjIy5HA4lJ2drRkzZqhbt27q1q2bZsyYoeDgYI0fP97u0QEAgI/w6dg5evSo7rvvPh0/flwdO3bUrbfeqq1btyo+Pl6S9NRTT+nMmTN6/PHHVVVVpT59+mjDhg18xg4AAHBxWJZl2T2E3WpqahQWFqbq6mrO32nF+FBBAM11aOZddo+Aq3Clf79b1Tk7AAAAzUXsAAAAoxE7AADAaMQOAAAwGrEDAACMRuwAAACjETsAAMBoxA4AADAasQMAAIxG7AAAAKMROwAAwGjEDgAAMBqxAwAAjEbsAAAAoxE7AADAaMQOAAAwGrEDAACMRuwAAACj+ds9AAAAdunyzHq7R2i2QzPvsnuEVocjOwAAwGjEDgAAMBqxAwAAjEbsAAAAoxE7AADAaMQOAAAwGrEDAACMRuwAAACjETsAAMBoxA4AADAasQMAAIxG7AAAAKMROwAAwGjEDgAAMBqxAwAAjEbsAAAAo/nbPQAAALhyXZ5Zb/cIzXZo5l22/n6O7AAAAKMROwAAwGjEDgAAMBqxAwAAjEbsAAAAoxE7AADAaMQOAAAwGrEDAACMRuwAAACjETsAAMBoxA4AADAasQMAAIxG7AAAAKMROwAAwGj+dg8A39TlmfV2jwAAgFdwZAcAABiN2AEAAEYjdgAAgNGIHQAAYDROUG5hnOgLAIC9OLIDAACMZkzsLFiwQAkJCWrbtq2Sk5P18ccf2z0SAADwAUbEzqpVq5Sdna1p06Zpx44duv3225Wenq7S0lK7RwMAADYzInby8/OVmZmphx9+WN27d9e8efMUFxenhQsX2j0aAACwWas/Qbmurk7bt2/XM88847Y9LS1NJSUll7yP0+mU0+l0Xa+urpYk1dTUeH2+Bue3Xn9MAABak5b4+/r3j2tZ1mXXtfrYOX78uOrr6xUVFeW2PSoqShUVFZe8T15enl544YVG2+Pi4lpkRgAArmVh81r28U+dOqWwsLAmb2/1sXOBw+Fwu25ZVqNtF0ydOlU5OTmu6w0NDTp58qQ6dOjQ5H3sUFNTo7i4OB05ckShoaF2j9Mq8Jw1D89X8/GcNR/PWfPwfF05y7J06tQpxcbGXnZdq4+diIgI+fn5NTqKU1lZ2ehozwWBgYEKDAx02/ajH/2opUa8aqGhofyDbyaes+bh+Wo+nrPm4zlrHp6vK3O5IzoXtPoTlAMCApScnKyioiK37UVFRUpJSbFpKgAA4Cta/ZEdScrJydEDDzyg3r1767bbbtNvf/tblZaW6rHHHrN7NAAAYDMjYmfs2LE6ceKE/v3f/13l5eVKSkrSe++9p/j4eLtHuyqBgYF6/vnnG73khqbxnDUPz1fz8Zw1H89Z8/B8eZ/D+r73awEAALRirf6cHQAAgMshdgAAgNGIHQAAYDRiBwAAGI3YaSXuvvtude7cWW3btlVMTIweeOABlZWV2T2Wzzp06JAyMzOVkJCgoKAg3XDDDXr++edVV1dn92g+7T/+4z+UkpKi4OBgn/6gTbssWLBACQkJatu2rZKTk/Xxxx/bPZJP++ijjzR8+HDFxsbK4XBo7dq1do/k0/Ly8nTLLbcoJCREkZGRGjlypPbu3Wv3WEYgdlqJ1NRUvfXWW9q7d69+//vf68CBA/rnf/5nu8fyWV9++aUaGhq0aNEi7dmzR3PnztVrr72mZ5991u7RfFpdXZ3uvfde/cu//Ivdo/icVatWKTs7W9OmTdOOHTt0++23Kz09XaWlpXaP5rNOnz6tm266SfPnz7d7lFahuLhYkyZN0tatW1VUVKTz588rLS1Np0+ftnu0Vo+3nrdS69at08iRI+V0OtWmTRu7x2kVZs+erYULF+qrr76yexSfV1hYqOzsbH3zzTd2j+Iz+vTpo169emnhwoWubd27d9fIkSOVl5dn42Stg8Ph0Jo1azRy5Ei7R2k1vv76a0VGRqq4uFj9+vWze5xWjSM7rdDJkyf15ptvKiUlhdBphurqaoWHh9s9Blqhuro6bd++XWlpaW7b09LSVFJSYtNUMF11dbUk8f8tLyB2WpGnn35a7dq1U4cOHVRaWqp3333X7pFajQMHDug3v/kNXyECjxw/flz19fWNvlw4Kiqq0ZcQA95gWZZycnLUt29fJSUl2T1Oq0fs2Gj69OlyOByXvWzbts21/l//9V+1Y8cObdiwQX5+fpowYYKutVchm/ucSVJZWZnuvPNO3XvvvXr44Ydtmtw+njxnuDSHw+F23bKsRtsAb8jKytKuXbu0YsUKu0cxghHfjdVaZWVlady4cZdd06VLF9fPERERioiIUGJiorp37664uDht3bpVt912WwtP6jua+5yVlZUpNTXV9QWx16LmPmdoLCIiQn5+fo2O4lRWVjY62gNcrcmTJ2vdunX66KOP1KlTJ7vHMQKxY6ML8eKJC0d0nE6nN0fyec15zo4dO6bU1FQlJyeroKBA1113bR7IvJp/Z/hOQECAkpOTVVRUpFGjRrm2FxUVacSIETZOBpNYlqXJkydrzZo1+vDDD5WQkGD3SMYgdlqBTz/9VJ9++qn69u2r9u3b66uvvtKvfvUr3XDDDdfUUZ3mKCsr04ABA9S5c2e98sor+vrrr123RUdH2ziZbystLdXJkydVWlqq+vp67dy5U5LUtWtXXX/99fYOZ7OcnBw98MAD6t27t+tIYWlpKeeBXUZtba3279/vun7w4EHt3LlT4eHh6ty5s42T+aZJkyZp+fLlevfddxUSEuI6khgWFqagoCCbp2vlLPi8Xbt2WampqVZ4eLgVGBhodenSxXrssceso0eP2j2azyooKLAkXfKCpmVkZFzyOdu8ebPdo/mEV1991YqPj7cCAgKsXr16WcXFxXaP5NM2b958yX9PGRkZdo/mk5r6f1ZBQYHdo7V6fM4OAAAw2rV5EgMAALhmEDsAAMBoxA4AADAasQMAAIxG7AAAAKMROwAAwGjEDgAAMBqxAwAAjEbsAGiVHA6H1q5de8Xrp0+frptvvvmyayZOnKiRI0de1VwAfA+xA6BFDB8+XIMGDbrkbf/zP/8jh8Ohzz//3OPHLy8vV3p6usf3B3DtIHYAtIjMzExt2rRJhw8fbnTb66+/rptvvlm9evVq9uPW1dVJ+u4LXQMDA696TgDmI3YAtIhhw4YpMjJShYWFbtu//fZbrVq1SpmZmTpx4oTuu+8+derUScHBwerZs6dWrFjhtn7AgAHKyspSTk6OIiIiNHjwYEmNX8Z6+umnlZiYqODgYP34xz/Wc889p3PnzjWaa9GiRYqLi1NwcLDuvfdeffPNN03ug2VZmjVrln784x8rKChIN910k955553L7veyZcvUu3dvhYSEKDo6WuPHj1dlZeXlnywALYrYAdAi/P39NWHCBBUWFurvv2/47bffVl1dnX7+85/r7NmzSk5O1n//939r9+7d+sUvfqEHHnhA//u//+v2WEuWLJG/v78++eQTLVq06JK/LyQkRIWFhfrLX/6iX//61/rd736nuXPnuq3Zv3+/3nrrLf3hD3/QBx98oJ07d2rSpElN7sO//du/qaCgQAsXLtSePXv05JNP6v7771dxcXGT96mrq9OLL76oL774QmvXrtXBgwc1ceLEK3jGALQYe790HYDJ/vrXv1qSrE2bNrm29evXz7rvvvuavM/QoUOtKVOmuK7379/fuvnmmxutk2StWbOmyceZNWuWlZyc7Lr+/PPPW35+ftaRI0dc295//33ruuuus8rLyy3LsqyMjAxrxIgRlmVZVm1trdW2bVurpKTE7XEzMzMvO//FPv30U0uSderUqSu+DwDv8re5tQAY7Kc//alSUlL0+uuvKzU1VQcOHNDHH3+sDRs2SJLq6+s1c+ZMrVq1SseOHZPT6ZTT6VS7du3cHqd3797f+7veeecdzZs3T/v371dtba3Onz+v0NBQtzWdO3dWp06dXNdvu+02NTQ0aO/evYqOjnZb+5e//EVnz551vWx2QV1dnX72s581OceOHTs0ffp07dy5UydPnlRDQ4MkqbS0VD169Pje/QDgfcQOgBaVmZmprKwsvfrqqyooKFB8fLwGDhwoSZozZ47mzp2refPmqWfPnmrXrp2ys7NdJyFfcHH8XGzr1q0aN26cXnjhBQ0ZMkRhYWFauXKl5syZc9n7ORwOt//+vQuRsn79ev3DP/yD221NnRh9+vRppaWlKS0tTcuWLVPHjh1VWlqqIUOGNNonAD8cYgdAixozZoyeeOIJLV++XEuWLNEjjzziiouPP/5YI0aM0P333y/pu8DYt2+funfv3qzf8cknnyg+Pl7Tpk1zbbvUu8BKS0tVVlam2NhYSd+9Bf66665TYmJio7U9evRQYGCgSktL1b9//yua48svv9Tx48c1c+ZMxcXFSZK2bdvWrH0B4H3EDoAWdf3112vs2LF69tlnVV1d7XaybteuXfX73/9eJSUlat++vfLz81VRUdHs2OnatatKS0u1cuVK3XLLLVq/fr3WrFnTaF3btm2VkZGhV155RTU1NfrlL3+pMWPGNHoJS/ruhOfc3Fw9+eSTamhoUN++fVVTU6OSkhJdf/31ysjIaHSfzp07KyAgQL/5zW/02GOPaffu3XrxxRebtS8AvI93YwFocZmZmaqqqtKgQYPUuXNn1/bnnntOvXr10pAhQzRgwABFR0d79AnGI0aM0JNPPqmsrCzdfPPNKikp0XPPPddoXdeuXTV69GgNHTpUaWlpSkpK0oIFC5p83BdffFG/+tWvlJeXp+7du2vIkCH6wx/+oISEhEuu79ixowoLC/X222+rR48emjlzpl555ZVm7w8A73JY1t+9JxQAAMAwHNkBAABGI3YAAIDRiB0AAGA0YgcAABiN2AEAAEYjdgAAgNGIHQAAYDRiBwAAGI3YAQAARiN2AACA0YgdAABgtP8HSW0Sr9rF0YAAAAAASUVORK5CYII=",
>>>>>>> upstream/main
      "text/plain": [
       "<Figure size 640x480 with 1 Axes>"
      ]
     },
     "metadata": {},
     "output_type": "display_data"
    }
   ],
   "source": [
    "# Compute a histogram\n",
    "# You can edit the number of bins with plt.hist(x = randomvar_a)\n",
    "\n",
    "randomvar_x = np.random.normal(loc=0, scale=1, size=1000)\n",
    "\n",
    "plt.hist(x = randomvar_x)\n",
    "plt.xlabel(\"Variable a\")\n",
    "plt.ylabel(\"Frequency\")"
   ]
  },
  {
   "attachments": {},
   "cell_type": "markdown",
   "metadata": {},
   "source": [
    "<font size = \"5\">\n",
    "\n",
    "Try this again with $size = 100, 1000, 10000$"
   ]
  },
  {
   "cell_type": "code",
   "execution_count": 64,
   "metadata": {},
   "outputs": [
    {
     "data": {
      "text/plain": [
       "Text(0, 0.5, 'Frequency')"
      ]
     },
     "execution_count": 64,
     "metadata": {},
     "output_type": "execute_result"
    },
    {
     "data": {
      "image/png": "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",
      "text/plain": [
       "<Figure size 640x480 with 1 Axes>"
      ]
     },
     "metadata": {},
     "output_type": "display_data"
    }
   ],
   "source": [
    "# Write the code for your histogram\n",
    "\n",
    "# Compute a histogram\n",
    "# You can edit the number of bins with plt.hist(x = randomvar_a)\n",
    "\n",
    "randomvar_x = np.random.normal(loc=0, scale=1, size=10000)\n",
    "\n",
    "plt.hist(x = randomvar_x)\n",
    "plt.xlabel(\"Variable a\")\n",
    "\n",
    "plt.ylabel(\"Frequency\")\n",
    "\n"
   ]
  },
  {
   "attachments": {},
   "cell_type": "markdown",
   "metadata": {},
   "source": [
    "# <span style=\"color:darkblue\"> Additional Resources </span>\n",
    "\n",
    "<font size=\"5\"> \n",
    "\n",
    "Check out additional examples at:\n",
    "\n",
    "- https://allendowney.github.io/ElementsOfDataScience/03_arrays.html\n",
    "\n",
    "\n"
   ]
  },
  {
   "cell_type": "markdown",
   "metadata": {},
   "source": [
    "<font size = \"20\">\n",
    "\n",
    "asdasd\n"
   ]
  },
  {
   "attachments": {},
   "cell_type": "markdown",
   "metadata": {},
   "source": [
    "# <span style=\"color:darkblue\"> (Optional) Matrix Operations </span>\n",
    "\n",
    "<font size=\"5\"> \n"
   ]
  },
  {
   "attachments": {},
   "cell_type": "markdown",
   "metadata": {},
   "source": [
    "<font size = \"5\">\n",
    "Creating a matrix by stacking different rows\n",
    "\n",
    "$ \\text{ }$\n",
    "\n",
    "$ X = \\begin{pmatrix} 1 & 2 & 3 \\\\ \n",
    "                       0 & 4 & 5 \\\\\n",
    "                       0 & 0 & 6\n",
    "                       \\end{pmatrix} $"
   ]
  },
  {
   "cell_type": "code",
<<<<<<< HEAD
   "execution_count": 52,
=======
   "execution_count": 65,
>>>>>>> upstream/main
   "metadata": {},
   "outputs": [
    {
     "name": "stdout",
     "output_type": "stream",
     "text": [
      "[[1 2 3]\n",
      " [0 4 5]\n",
      " [0 0 6]]\n"
     ]
    }
   ],
   "source": [
    "# Matrices are usually denoted by capital letters\n",
    "# The object [[1,2,3],[4,5,6],[7,8,9]] is a list of lists\n",
    "# It's useful to maintain this notation in the code as well\n",
    "\n",
    "X = np.array([[1,2,3],[0,4,5],[0,0,6]])\n",
    "print(X)"
   ]
  },
  {
   "attachments": {},
   "cell_type": "markdown",
   "metadata": {},
   "source": [
    "<font size = \"5\">\n",
    "Creating a matrix by stacking different columns\n",
    "\n",
    "$ \\text{ } $\n",
    "\n",
    "$ Y = \\begin{pmatrix} 1 & 2 \\\\ 0 & 1 \\\\ 1 & 0 \\end{pmatrix}$"
   ]
  },
  {
   "cell_type": "code",
   "execution_count": null,
   "metadata": {},
   "outputs": [],
   "source": [
    "# You can also stack columns\n",
    "Y =  np.column_stack([[1,0,1],[2,1,0]])\n",
    "print(Y)"
   ]
  },
  {
   "attachments": {},
   "cell_type": "markdown",
   "metadata": {},
   "source": [
    "<font size = \"5\">\n",
    "Transpose\n",
    "\n",
    "$ \\text{ }$\n",
    "\n",
    "$ Y' = \\begin{pmatrix}  1 & 0 & 1 \\\\ 2 & 1 & 0  \\end{pmatrix} $"
   ]
  },
  {
   "cell_type": "code",
   "execution_count": null,
   "metadata": {},
   "outputs": [],
   "source": [
    "# Matrix Transpose\n",
    "np.matrix.transpose(Y)"
   ]
  },
  {
   "attachments": {},
   "cell_type": "markdown",
   "metadata": {},
   "source": [
    "<font size = \"5\">\n",
    "\n",
    "Matrix multiplication\n",
    "\n",
    "$ XY = \\begin{pmatrix} 1 & 2 & 3 \\\\ \n",
    "                       0 & 4 & 5 \\\\\n",
    "                       0 & 0 & 6\n",
    "                       \\end{pmatrix}\n",
    "                       \\begin{pmatrix} 1 & 2 \\\\ 0 & 1 \\\\ 1 & 0 \\end{pmatrix} = \n",
    "        \\begin{pmatrix} 4 & 4 \\\\ 5 & 4 \\\\ 6 & 0 \\end{pmatrix} $"
   ]
  },
  {
   "cell_type": "code",
   "execution_count": null,
   "metadata": {},
   "outputs": [],
   "source": [
    "# Matrix Multiplication\n",
    "\n",
    "np.dot(X,Y)\n",
    "\n",
    "np.matmul(X,Y)"
   ]
  },
  {
   "attachments": {},
   "cell_type": "markdown",
   "metadata": {},
   "source": [
    "<font size = \"5\">\n",
    "\n",
    "Matrix inverse\n",
    "\n",
    "$ X^{-1} = \\begin{pmatrix} 1 & 2 & 3 \\\\ \n",
    "                       0 & 4 & 5 \\\\\n",
    "                       0 & 0 & 6\n",
    "                       \\end{pmatrix}^{-1} $"
   ]
  },
  {
   "cell_type": "code",
   "execution_count": null,
   "metadata": {},
   "outputs": [],
   "source": [
    "# Check the determinant of a matrix (a matrix is invertible if the determinant is not zero)\n",
    "print(np.linalg.det(X))\n",
    "\n",
    "# Matrix inverse\n",
    "# The following command stands for linear algebrar inverse.\n",
    "X_inv = np.linalg.inv(X)\n",
    "\n",
    "# Output the result\n",
    "print(X_inv)\n"
   ]
  },
  {
   "attachments": {},
   "cell_type": "markdown",
   "metadata": {},
   "source": [
    "<font size = \"5\">\n",
    "\n",
    "Try it yourself! Check that this is indeed an inverse:\n",
    "\n",
    "$X X_{inv} = \\begin{pmatrix} 1 & 0 & 0 \\\\ 0 & 1 & 0 \\\\ 0 & 0 & 1 \\end{pmatrix}$"
   ]
  },
  {
   "cell_type": "code",
   "execution_count": null,
   "metadata": {},
   "outputs": [],
   "source": [
    "# Multiply \"X\" times \"X_inv\" using the command shown above\n",
    "# Note: Sometimes the result is shown in scientific notation.\n",
    "\n",
    "\n",
    "\n"
   ]
  }
 ],
 "metadata": {
  "kernelspec": {
   "display_name": "base",
   "language": "python",
   "name": "python3"
  },
  "language_info": {
   "codemirror_mode": {
    "name": "ipython",
    "version": 3
   },
   "file_extension": ".py",
   "mimetype": "text/x-python",
   "name": "python",
   "nbconvert_exporter": "python",
   "pygments_lexer": "ipython3",
<<<<<<< HEAD
   "version": "3.11.3"
=======
   "version": "3.9.13"
>>>>>>> upstream/main
  },
  "orig_nbformat": 4,
  "vscode": {
   "interpreter": {
    "hash": "45fc1f684f6f416f40889115beff3ddf69879b64cf4bfee48cb72a61e9d15d1a"
   }
  }
 },
 "nbformat": 4,
 "nbformat_minor": 2
}
